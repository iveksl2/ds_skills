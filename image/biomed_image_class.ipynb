{
  "nbformat": 4,
  "nbformat_minor": 0,
  "metadata": {
    "colab": {
      "name": "biomed_image_class.ipynb",
      "provenance": [],
      "authorship_tag": "ABX9TyPIkLHTEM1ncSKiHrTENN/6",
      "include_colab_link": true
    },
    "kernelspec": {
      "name": "python3",
      "display_name": "Python 3"
    },
    "language_info": {
      "name": "python"
    }
  },
  "cells": [
    {
      "cell_type": "markdown",
      "metadata": {
        "id": "view-in-github",
        "colab_type": "text"
      },
      "source": [
        "<a href=\"https://colab.research.google.com/github/iveksl2/ds_skills/blob/master/image/biomed_image_class.ipynb\" target=\"_parent\"><img src=\"https://colab.research.google.com/assets/colab-badge.svg\" alt=\"Open In Colab\"/></a>"
      ]
    },
    {
      "cell_type": "markdown",
      "metadata": {
        "id": "jK3-CbgD42ko"
      },
      "source": [
        "Load & Plot"
      ]
    },
    {
      "cell_type": "code",
      "metadata": {
        "id": "HKRgagma6Sry"
      },
      "source": [
        "# Import ImageIO\n",
        "import imageio\n",
        "import matplotlib.pyplot as plt\n",
        "import numpy as np\n",
        "import scipy.ndimage\n"
      ],
      "execution_count": null,
      "outputs": []
    },
    {
      "cell_type": "code",
      "metadata": {
        "colab": {
          "base_uri": "https://localhost:8080/"
        },
        "id": "lpH4wScN6V9u",
        "outputId": "4eb3ee8a-918d-4435-ddbc-673501412a03"
      },
      "source": [
        "imageio.imread('https://assets.datacamp.com/production/repositories/2085/datasets/61bc2353b17eb6929d6169109bff447b6d00b6bc/hand.png')\n"
      ],
      "execution_count": null,
      "outputs": [
        {
          "output_type": "execute_result",
          "data": {
            "text/plain": [
              "Array([[17, 17, 20, ..., 34, 36, 36],\n",
              "       [18, 19, 19, ..., 29, 30, 32],\n",
              "       [20, 20, 18, ..., 29, 31, 29],\n",
              "       ...,\n",
              "       [20, 22, 18, ...,  7,  6, 15],\n",
              "       [16, 17, 17, ...,  8,  6, 12],\n",
              "       [26, 14, 17, ...,  6,  5,  8]], dtype=uint8)"
            ]
          },
          "metadata": {},
          "execution_count": 4
        }
      ]
    },
    {
      "cell_type": "code",
      "metadata": {
        "id": "LyN9Kf1P4bj4"
      },
      "source": [
        "# Import ImageIO\n",
        "import imageio\n",
        "\n",
        "# Load \"chest-220.dcm\"\n",
        "im = imageio.imread('chest-220.dcm')\n",
        "\n",
        "# Print image attributes\n",
        "print('Image type:', type(im))\n",
        "print('Shape of image array:', im.shape)"
      ],
      "execution_count": null,
      "outputs": []
    },
    {
      "cell_type": "code",
      "metadata": {
        "id": "n6i6PAr1KaNR"
      },
      "source": [
        ""
      ],
      "execution_count": null,
      "outputs": []
    },
    {
      "cell_type": "code",
      "metadata": {
        "id": "jtoiG6do4mnm"
      },
      "source": [
        "# Draw the image with greater contrast\n",
        "plt.imshow(im, cmap='gray', vmin=-200, vmax=200)\n",
        "plt.axis('off')\n",
        "\n",
        "# Render the image\n",
        "plt.show()"
      ],
      "execution_count": null,
      "outputs": []
    },
    {
      "cell_type": "markdown",
      "metadata": {
        "id": "wpdyqZG35jZV"
      },
      "source": [
        "*N*-dimensonal images\n"
      ]
    },
    {
      "cell_type": "code",
      "metadata": {
        "id": "fIUPqj6O5o2W"
      },
      "source": [
        ""
      ],
      "execution_count": null,
      "outputs": []
    },
    {
      "cell_type": "markdown",
      "metadata": {
        "id": "mVDcNp10qskZ"
      },
      "source": [
        "Advanced Plotting\n"
      ]
    },
    {
      "cell_type": "code",
      "metadata": {
        "id": "Hn8YmWUCqvDp"
      },
      "source": [
        "# Import PyPlot\n",
        "import matplotlib.pyplot as plt\n",
        "\n",
        "# Initialize figure and axes grid\n",
        "fig, axes = plt.subplots(nrows=2, ncols=1)\n",
        "\n",
        "# Draw an image on each subplot\n",
        "axes[0].imshow(im1,cmap='gray')\n",
        "axes[1].imshow(im2,cmap='gray')\n",
        "\n",
        "\n",
        "# Remove ticks/labels and render\n",
        "axes[0].axis('off')\n",
        "axes[1].axis('off')\n",
        "plt.show()"
      ],
      "execution_count": null,
      "outputs": []
    },
    {
      "cell_type": "code",
      "metadata": {
        "id": "XoyW72X1DuMi"
      },
      "source": [
        "# Plotting image slices with subplot\n",
        "# Plot the images on a subplots array \n",
        "fig, axes = plt.subplots(1, 4)\n",
        "\n",
        "# Loop through subplots and draw image\n",
        "for ii in range(4):\n",
        "    im = vol[ii*40, :, :] # every 40th slice\n",
        "    axes[ii].imshow(im, cmap='gray')\n",
        "    axes[ii].axis('off')\n",
        "    \n",
        "# Render the figure\n",
        "plt.show()"
      ],
      "execution_count": null,
      "outputs": []
    },
    {
      "cell_type": "code",
      "metadata": {
        "id": "wJdMAObfAqKv"
      },
      "source": [
        "# Images can have different aspect ratios (width and height)\n",
        "# Select frame from \"vol\"\n",
        "im1 = vol[:, 256, :]\n",
        "im2 = vol[:, :, 256]\n",
        "\n",
        "# Compute aspect ratios\n",
        "d0, d1, d2 = vol.meta['sampling']\n",
        "asp1 = d0 / d2\n",
        "asp2 = d0 / d1\n",
        "\n",
        "# Plot the images on a subplots array \n",
        "fig, axes = plt.subplots(nrows=2, ncols=1)\n",
        "axes[0].imshow(im1, cmap='gray', aspect=asp1)\n",
        "axes[1].imshow(im2, cmap='gray', aspect=asp2)\n",
        "plt.show()"
      ],
      "execution_count": null,
      "outputs": []
    },
    {
      "cell_type": "code",
      "metadata": {
        "id": "Akebg_95Ft0K"
      },
      "source": [
        ""
      ],
      "execution_count": null,
      "outputs": []
    },
    {
      "cell_type": "markdown",
      "metadata": {
        "id": "0tGGD7kDl8hG"
      },
      "source": [
        "Masks & Filters"
      ]
    },
    {
      "cell_type": "code",
      "metadata": {
        "id": "_32iSeajl-mK",
        "colab": {
          "base_uri": "https://localhost:8080/",
          "height": 338
        },
        "outputId": "a474f59e-3ccd-4139-a4c5-165a59eea089"
      },
      "source": [
        "# Intensities and types\n",
        "\n",
        "# Load the hand radiograph\n",
        "#im = imageio.imread('hand-xray.jpg')\n",
        "im = imageio.imread('https://assets.datacamp.com/production/repositories/2085/datasets/61bc2353b17eb6929d6169109bff447b6d00b6bc/hand.png')\n",
        "\n",
        "print('Data type:', im.dtype)\n",
        "print('Min. value:', im.min())\n",
        "print('Max value:', im.max())\n",
        "\n",
        "# Plot the grayscale image\n",
        "plt.imshow(im, vmin=0, vmax=255, cmap='gray')\n",
        "plt.colorbar()\n",
        "#format_and_render_plot()"
      ],
      "execution_count": null,
      "outputs": [
        {
          "output_type": "stream",
          "name": "stdout",
          "text": [
            "Data type: uint8\n",
            "Min. value: 3\n",
            "Max value: 224\n"
          ]
        },
        {
          "output_type": "execute_result",
          "data": {
            "text/plain": [
              "<matplotlib.colorbar.Colorbar at 0x7f2567408d90>"
            ]
          },
          "metadata": {},
          "execution_count": 4
        },
        {
          "output_type": "display_data",
          "data": {
            "image/png": "[encoded data removed]",
            "text/plain": [
              "<Figure size 432x288 with 2 Axes>"
            ]
          },
          "metadata": {
            "needs_background": "light"
          }
        }
      ]
    },
    {
      "cell_type": "code",
      "metadata": {
        "id": "wq8_ppY-vCup",
        "colab": {
          "base_uri": "https://localhost:8080/",
          "height": 282
        },
        "outputId": "aa40b08e-6235-4df9-9dc0-c3b4db965a4b"
      },
      "source": [
        "# histogram and CDF of image intensity values\n",
        "# Import SciPy's \"ndimage\" module\n",
        "import scipy.ndimage as ndi \n",
        "\n",
        "# Create a histogram, binned at each possible value\n",
        "hist = ndi.histogram(im, min=0, max=255, bins=256)\n",
        "\n",
        "# Create a cumulative distribution function\n",
        "cdf = hist.cumsum() / hist.sum()\n",
        "\n",
        "# Plot the histogram and CDF\n",
        "fig, axes = plt.subplots(2, 1, sharex=True)\n",
        "axes[0].plot(hist, label='Histogram')\n",
        "axes[1].plot(cdf, label='CDF')\n",
        "#format_and_render_plot()"
      ],
      "execution_count": null,
      "outputs": [
        {
          "output_type": "execute_result",
          "data": {
            "text/plain": [
              "[<matplotlib.lines.Line2D at 0x7f2566ed0610>]"
            ]
          },
          "metadata": {},
          "execution_count": 5
        },
        {
          "output_type": "display_data",
          "data": {
            "image/png": "[encoded data removed]",
            "text/plain": [
              "<Figure size 432x288 with 2 Axes>"
            ]
          },
          "metadata": {
            "needs_background": "light"
          }
        }
      ]
    },
    {
      "cell_type": "markdown",
      "metadata": {
        "id": "iRcY5PFI9LqK"
      },
      "source": [
        "Masks are the primary method for removing or selecting specific parts of an image. They are binary arrays that indicate whether a value should be included in an analysis. Typically, masks are created by applying one or more logical operations to an image.\n",
        "\n",
        "For this exercise, try to use a simple intensity threshold to differentiate between skin and bone in the hand radiograph. (im has been equalized to utilize the whole intensity range.)\n",
        "\n",
        "Below is the histogram of im colored by the segments we will plot.\n",
        "\n",
        "Histogram of equalized foot x-ray"
      ]
    },
    {
      "cell_type": "code",
      "metadata": {
        "id": "9w_tidhL9OZ6",
        "colab": {
          "base_uri": "https://localhost:8080/",
          "height": 286
        },
        "outputId": "e6f2d460-b4d5-468f-eae3-ce33959f008a"
      },
      "source": [
        "# Create skin and bone masks\n",
        "mask_bone = im >= 145\n",
        "mask_skin = (im >= 45) & (im < 145)\n",
        "\n",
        "# Plot the skin (0) and bone (1) masks\n",
        "fig, axes = plt.subplots(1,2)\n",
        "axes[0].imshow(mask_skin, cmap='gray')\n",
        "axes[1].imshow(mask_bone, cmap='gray')\n",
        "#format_and_render_plot()"
      ],
      "execution_count": null,
      "outputs": [
        {
          "output_type": "execute_result",
          "data": {
            "text/plain": [
              "<matplotlib.image.AxesImage at 0x7f2566e11e90>"
            ]
          },
          "metadata": {},
          "execution_count": 6
        },
        {
          "output_type": "display_data",
          "data": {
            "image/png": "[encoded data removed]",
            "text/plain": [
              "<Figure size 432x288 with 2 Axes>"
            ]
          },
          "metadata": {
            "needs_background": "light"
          }
        }
      ]
    },
    {
      "cell_type": "code",
      "metadata": {
        "id": "MBEalHec_Q9Y",
        "colab": {
          "base_uri": "https://localhost:8080/",
          "height": 286
        },
        "outputId": "7690a2da-938f-4ac1-c5d0-5839cd3b443b"
      },
      "source": [
        "# Import SciPy's \"ndimage\" module\n",
        "import scipy.ndimage\n",
        "\n",
        "# Screen out non-bone pixels from \"im\"\n",
        "mask_bone = im >= 145\n",
        "im_bone = np.where(mask_bone, im, 0)\n",
        "\n",
        "# Get the histogram of bone intensities\n",
        "hist = scipy.ndimage.histogram(im_bone, min=1, max=255, bins=255)\n",
        "\n",
        "# Plot masked image and histogram\n",
        "fig, axes = plt.subplots(2,1)\n",
        "axes[0].imshow(im_bone, cmap='gray')\n",
        "axes[1].plot(hist)\n",
        "#format_and_render_plot()"
      ],
      "execution_count": null,
      "outputs": [
        {
          "output_type": "execute_result",
          "data": {
            "text/plain": [
              "[<matplotlib.lines.Line2D at 0x7f2566bffc50>]"
            ]
          },
          "metadata": {},
          "execution_count": 10
        },
        {
          "output_type": "display_data",
          "data": {
            "image/png": "[encoded data removed]",
            "text/plain": [
              "<Figure size 432x288 with 2 Axes>"
            ]
          },
          "metadata": {
            "needs_background": "light"
          }
        }
      ]
    },
    {
      "cell_type": "markdown",
      "metadata": {
        "id": "rYNp6cvW80qw"
      },
      "source": [
        "**Tune a mask**\n",
        "\n",
        "Imperfect masks can be tuned through the addition and subtraction of pixels. SciPy includes several useful methods for accomplishing these ends. These include:\n",
        "\n",
        "binary_dilation: Add pixels along edges\n",
        "binary_erosion: Remove pixels along edges\n",
        "binary_opening: Erode then dilate, \"opening\" areas near edges\n",
        "binary_closing: Dilate then erode, \"filling in\" holes"
      ]
    },
    {
      "cell_type": "code",
      "metadata": {
        "colab": {
          "base_uri": "https://localhost:8080/",
          "height": 216
        },
        "id": "c4qVQENf81gM",
        "outputId": "6af3ede5-cd57-4a3b-cb1e-a205332f4a9b"
      },
      "source": [
        "# Create and tune bone mask\n",
        "mask_bone = im >= 145\n",
        "mask_dilate = ndi.binary_dilation(mask_bone, iterations=5)\n",
        "mask_closed = ndi.binary_closing(mask_bone, iterations=5)\n",
        "\n",
        "# Plot masked images\n",
        "fig, axes = plt.subplots(1,3)\n",
        "axes[0].imshow(mask_bone)\n",
        "axes[1].imshow(mask_dilate)\n",
        "axes[2].imshow(mask_closed)\n",
        "#format_and_render_plot()"
      ],
      "execution_count": null,
      "outputs": [
        {
          "output_type": "execute_result",
          "data": {
            "text/plain": [
              "<matplotlib.image.AxesImage at 0x7f2566e32a50>"
            ]
          },
          "metadata": {},
          "execution_count": 11
        },
        {
          "output_type": "display_data",
          "data": {
            "image/png": "[encoded data removed]",
            "text/plain": [
              "<Figure size 432x288 with 3 Axes>"
            ]
          },
          "metadata": {
            "needs_background": "light"
          }
        }
      ]
    },
    {
      "cell_type": "markdown",
      "metadata": {
        "id": "DTemT7DkIiMS"
      },
      "source": [
        "**Filters**\n",
        "\n",
        "Filters are an essential tool in image processing. They allow you to transform images based on intensity values surrounding a pixel, rather than globally.\n",
        "\n",
        "\n",
        "*Smoothing* - Similar to smoothing in TS. \n",
        "\n",
        "*Sharpening* - exageratoes differences\n",
        "\n",
        "Kernel - Weighting function matrix of pixel and its neighbors. \n",
        "\n",
        "[How Blurs & Filters Work - Computerphile](https://www.youtube.com/watch?v=C_zFhWdM4ic)"
      ]
    },
    {
      "cell_type": "code",
      "metadata": {
        "id": "K5UQLZD7Ijii"
      },
      "source": [
        "# Set filter weights\n",
        "weights = [[0.11, 0.11, 0.11],\n",
        "           [0.11, 0.11, 0.11], \n",
        "           [0.11, 0.11, 0.11]]\n",
        "\n",
        "# Convolve the image with the filter\n",
        "im_filt = ndi.convolve(im, weights)\n",
        "\n",
        "# Plot the images\n",
        "fig, axes = plt.subplots(1,2)\n",
        "axes[0].imshow(im)\n",
        "axes[1].imshow(im_filt)\n",
        "format_and_render_plot()"
      ],
      "execution_count": null,
      "outputs": []
    },
    {
      "cell_type": "markdown",
      "metadata": {
        "id": "fs1fz2-wLaT9"
      },
      "source": [
        "Convolutions rely on a set of weights, but filtering can also be done using functions such as the mean, median and maximum. Just like with convolutions, filter functions will update each pixel value based on its local neighborhood."
      ]
    },
    {
      "cell_type": "markdown",
      "metadata": {
        "id": "B3FeBpWFLtNv"
      },
      "source": [
        "Smoothing can improve the signal-to-noise ratio of your image by blurring out small variations in intensity. The Gaussian filter is excellent for this: it is a circular (or spherical) smoothing kernel that weights nearby pixels higher than distant ones.\n",
        "\n",
        "\n",
        "\n",
        "The width of the distribution is controlled by the sigma argument, with higher values leading to larger smoothing effects."
      ]
    },
    {
      "cell_type": "code",
      "metadata": {
        "id": "lbMv7ld2LuhE"
      },
      "source": [
        "# Smooth \"im\" with Gaussian filters\n",
        "im_s1 = ndi.gaussian_filter(im, sigma=1)\n",
        "im_s3 = ndi.gaussian_filter(im, sigma=3)\n",
        "\n",
        "# Draw bone masks of each image\n",
        "fig, axes = plt.subplots(1,3)\n",
        "axes[0].imshow(im >= 145)\n",
        "axes[1].imshow(im_s1 >= 145)\n",
        "axes[2].imshow(im_s3 >= 145)\n",
        "format_and_render_plot()"
      ],
      "execution_count": null,
      "outputs": []
    },
    {
      "cell_type": "code",
      "metadata": {
        "id": "eCXEsulHOCM7"
      },
      "source": [
        ""
      ],
      "execution_count": null,
      "outputs": []
    },
    {
      "cell_type": "markdown",
      "metadata": {
        "id": "HhrYDlxDV14c"
      },
      "source": [
        "Feature Detection "
      ]
    },
    {
      "cell_type": "markdown",
      "metadata": {
        "id": "SN5RjKYnZzua"
      },
      "source": [
        "Filters can also be used as \"detectors.\" If a part of the image fits the weighting pattern, the returned value will be very high (or very low).\n",
        "\n",
        "In the case of edge detection, that pattern is a change in intensity along a plane. A filter detecting horizontal edges might look like this:\n",
        "\n",
        "weights = [[+1, +1, +1],\n",
        "           [ 0,  0,  0],\n",
        "           [-1, -1, -1]]"
      ]
    },
    {
      "cell_type": "code",
      "metadata": {
        "id": "ToT7_J8UV3NP"
      },
      "source": [
        "# Set weights to detect vertical edges\n",
        "weights = [[1, 0, -1], [1, 0, -1], [1, 0, -1]]\n",
        "\n",
        "# Convolve \"im\" with filter weights\n",
        "edges = ndi.convolve(im, weights)\n",
        "\n",
        "# Draw the image in color\n",
        "plt.imshow(edges, cmap='seismic', vmin=-150, vmax=150)\n",
        "plt.colorbar()\n",
        "format_and_render_plot()"
      ],
      "execution_count": null,
      "outputs": []
    },
    {
      "cell_type": "markdown",
      "metadata": {
        "id": "f-k9_Hr9Ztab"
      },
      "source": [
        "Edge detection can be performed along multiple axes, then combined into a single edge value. For 2D images, the horizontal and vertical \"edge maps\" can be combined using the Pythagorean theorem:\n",
        "\n",
        "\n",
        "One popular edge detector is the Sobel filter. The Sobel filter provides extra weight to the center pixels of the detector:\n",
        "\n",
        "weights = [[ 1,  2,  1], \n",
        "           [ 0,  0,  0],\n",
        "           [-1, -2, -1]]"
      ]
    },
    {
      "cell_type": "code",
      "metadata": {
        "id": "DVkhc8qYYUjm"
      },
      "source": [
        "# Apply Sobel filter along both axes\n",
        "sobel_ax0 = ndi.sobel(im, axis=0)\n",
        "sobel_ax1 = ndi.sobel(im, axis=1)\n",
        "\n",
        "# Calculate edge magnitude \n",
        "edges = np.sqrt(np.square(sobel_ax0) + np.square(sobel_ax1))\n",
        "\n",
        "# Plot edge magnitude\n",
        "plt.imshow(edges, cmap='gray', vmax=75)\n",
        "format_and_render_plot()"
      ],
      "execution_count": null,
      "outputs": []
    },
    {
      "cell_type": "code",
      "metadata": {
        "id": "J4u8jeBREPMI"
      },
      "source": [
        ""
      ],
      "execution_count": null,
      "outputs": []
    },
    {
      "cell_type": "markdown",
      "metadata": {
        "id": "Zvwf6tXIEQDO"
      },
      "source": [
        "**Objects and Labels**"
      ]
    },
    {
      "cell_type": "code",
      "metadata": {
        "id": "dynPLw-WESkQ"
      },
      "source": [
        "# Smooth intensity values\n",
        "im_filt = ndi.median_filter(im, size=3)\n",
        "\n",
        "# Select high-intensity pixels\n",
        "mask_start = np.where(im_filt > 60, 1, 0)\n",
        "mask = ndi.binary_closing(mask_start)``\n",
        "\n",
        "# Label the objects in \"mask\"\n",
        "labels, nlabels = ndi.label(mask)\n",
        "print('Num. Labels:', nlabels)"
      ],
      "execution_count": null,
      "outputs": []
    },
    {
      "cell_type": "code",
      "metadata": {
        "id": "Y2ASOYzN3xkF"
      },
      "source": [
        "# Create a `labels` overlay\n",
        "overlay = np.where(labels > 0, labels, np.nan)\n",
        "\n",
        "# Use imshow to plot the overlay\n",
        "plt.imshow(overlay, cmap='rainbow', alpha=.75)\n",
        "format_and_render_plot()"
      ],
      "execution_count": null,
      "outputs": []
    },
    {
      "cell_type": "code",
      "metadata": {
        "id": "D1hJyvrW5VWE"
      },
      "source": [
        "# Label the image \"mask\"\n",
        "labels, nlabels = ndi.label(mask)\n",
        "\n",
        "# Select left ventricle pixels\n",
        "lv_val = labels[128, 128]\n",
        "lv_mask = np.where(labels == lv_val, 1, np.nan)\n",
        "\n",
        "# Overlay selected label\n",
        "plt.imshow(lv_mask, cmap='rainbow')\n",
        "plt.show()"
      ],
      "execution_count": null,
      "outputs": []
    },
    {
      "cell_type": "code",
      "metadata": {
        "id": "Jn5Eg0rs7WF9"
      },
      "source": [
        "# Create left ventricle mask\n",
        "labels, nlabels = ndi.label(mask)\n",
        "lv_val = labels[128, 128]\n",
        "lv_mask = np.where(labels == lv_val, 1, 0)\n",
        "\n",
        "# Find bounding box of left ventricle\n",
        "bboxes = ndi.find_objects(lv_mask)\n",
        "print('Number of objects:', len(bboxes))\n",
        "print('Indices for first box:', bboxes[0])\n",
        "\n",
        "# Crop to the left ventricle (index 0)\n",
        "im_lv = im[bboxes[0]]\n",
        "\n",
        "# Plot the cropped image\n",
        "plt.imshow(im_lv)\n",
        "format_and_render_plot()"
      ],
      "execution_count": null,
      "outputs": []
    },
    {
      "cell_type": "markdown",
      "metadata": {
        "id": "BJiigOe0dgbX"
      },
      "source": [
        "SciPy measurement functions allow you to tailor measurements to specific sets of pixels:\n",
        "\n",
        "* Specifying labels restricts the mask to non-zero pixels.\n",
        "* Specifying index value(s) returns a measure for each label value."
      ]
    },
    {
      "cell_type": "code",
      "metadata": {
        "id": "xekgw0_fblcR"
      },
      "source": [
        "# Variance for all pixels\n",
        "var_all = ndi.variance(vol)\n",
        "print('All pixels:', var_all)\n",
        "\n",
        "# Variance for labeled pixels\n",
        "var_label`s = ndi.variance(vol, labels)\n",
        "print('Labeled pixels:', var_labels)\n",
        "\n",
        "# Variance for each object\n",
        "var_objects = ndi.variance(vol, labels, index=[1,2])\n",
        "print('Left ventricle:', var_objects[0])\n",
        "print('Other tissue:', var_objects[1])"
      ],
      "execution_count": null,
      "outputs": []
    },
    {
      "cell_type": "markdown",
      "metadata": {
        "id": "77NmExcDeiqI"
      },
      "source": [
        "Separate histograms\n",
        "\n",
        "A poor tissue segmentation includes multiple tissue types, leading to a wide distribution of intensity values and more variance.\n",
        "\n",
        "On the other hand, a perfectly segmented left ventricle would contain only blood-related pixels, so the histogram of the segmented values should be roughly bell-shaped.\n",
        "\n"
      ]
    },
    {
      "cell_type": "code",
      "metadata": {
        "id": "f2IT0sU-dk4p"
      },
      "source": [
        "# Create histograms for selected pixels\n",
        "hist1 = ndi.histogram(vol, min=0, max=255, bins=256)\n",
        "hist2 = ndi.histogram(vol, 0, 255, 256, labels=labels)\n",
        "hist3 = ndi.histogram(vol, 0, 255, 256, labels=labels, index=1)\n",
        "\n",
        "# Plot the histogram density\n",
        "plt.plot(hist1 / hist1.sum(), label='All pixels')\n",
        "plt.plot(hist2 / hist2.sum(), label='All labeled pixels')\n",
        "plt.plot(hist3 / hist3.sum(), label='Left ventricle')\n",
        "format_and_render_plot()"
      ],
      "execution_count": null,
      "outputs": []
    },
    {
      "cell_type": "code",
      "metadata": {
        "id": "jRmDdkPCerQR"
      },
      "source": [
        ""
      ],
      "execution_count": null,
      "outputs": []
    },
    {
      "cell_type": "markdown",
      "metadata": {
        "id": "vxcTp13Pexkv"
      },
      "source": [
        "Mophology (shape & size)\n",
        "\n",
        "I.E. How big is a brain tumor. \n",
        "\n",
        "Calculate volume\n",
        "Quantifying tissue morphology, or shape is one primary objective of biomedical imaging. The size, shape, and uniformity of a tissue can reveal essential health insights."
      ]
    },
    {
      "cell_type": "markdown",
      "metadata": {
        "id": "91_3tqpvgQfw"
      },
      "source": [
        "A distance transformation calculates the distance from each pixel to a given point, usually the nearest background pixel. This allows you to determine which points in the object are more interior and which are closer to edges."
      ]
    },
    {
      "cell_type": "code",
      "metadata": {
        "id": "ohs8eM_AfXEH"
      },
      "source": [
        "# Calculate left ventricle distances\n",
        "lv = np.where(labels==1, 1, 0)\n",
        "dists = ndi.distance_transform_edt(lv, sampling=vol.meta['sampling'])\n",
        "\n",
        "# Report on distances\n",
        "print('Max distance (mm):', dists.max())\n",
        "print('Max location:', ndi.maximum_position(dists))\n",
        "\n",
        "# Plot overlay of distances\n",
        "overlay = np.where(dists[5] > 0, dists[5], np.nan) \n",
        "plt.imshow(overlay, cmap='hot')\n",
        "format_and_render_plot()"
      ],
      "execution_count": null,
      "outputs": []
    },
    {
      "cell_type": "markdown",
      "metadata": {
        "id": "q_vdNB8dhImw"
      },
      "source": [
        "The distance transformation reveals the most embedded portions of an object. On the other hand, ndi.center_of_mass() returns the coordinates for the center of an object.\n",
        "\n",
        "The \"mass\" corresponds to intensity values, with higher values pulling the center closer to it."
      ]
    },
    {
      "cell_type": "code",
      "metadata": {
        "id": "hmXlN7yChJHV"
      },
      "source": [
        "# Extract centers of mass for objects 1 and 2\n",
        "coms = ndi.center_of_mass(vol, labels, index=[1,2])\n",
        "print('Label 1 center:', coms[0])\n",
        "print('Label 2 center:', coms[1])\n",
        "\n",
        "# Add marks to plot\n",
        "for c0, c1, c2 in coms:\n",
        "    plt.scatter(c2, c1, s=100, marker='o')\n",
        "plt.show()"
      ],
      "execution_count": null,
      "outputs": []
    },
    {
      "cell_type": "markdown",
      "metadata": {
        "id": "d5EVnsBwm_gZ"
      },
      "source": [
        "Summarize the time series\n",
        "\n",
        "The ejection fraction is the proportion of blood squeezed out of the left ventricle each heartbeat. To calculate it, radiologists have to identify the maximum volume (systolic volume) and the minimum volume (diastolic volume) of the ventricle."
      ]
    },
    {
      "cell_type": "code",
      "metadata": {
        "id": "hDFE_Q10jp4p"
      },
      "source": [
        "# Create an empty time series\n",
        "ts = np.zeros(20)\n",
        "\n",
        "# Calculate volume at each voxel\n",
        "d0, d1, d2, d3 = vol_ts.meta['sampling']\n",
        "dvoxel = d1 * d2 * d3\n",
        "\n",
        "# Loop over the labeled arrays\n",
        "for t in range(20):\n",
        "    nvoxels = ndi.sum(1, labels[t], index=1)\n",
        "    ts[t] = nvoxels * dvoxel\n",
        "\n",
        "# Plot the data\n",
        "plt.plot(ts)\n",
        "format_and_render_plot()"
      ],
      "execution_count": null,
      "outputs": []
    },
    {
      "cell_type": "markdown",
      "metadata": {
        "id": "a8PeaydgnByj"
      },
      "source": [
        "Measure ejection fraction\n",
        "The ejection fraction is defined as:\n",
        "\n",
        " \n",
        "…where  is left ventricle volume for one 3D timepoint.\n",
        "\n",
        "To close our investigation, plot slices from the maximum and minimum volumes by analyzing the volume time series (ts). Then, calculate the ejection fraction."
      ]
    },
    {
      "cell_type": "code",
      "metadata": {
        "id": "NFgeJBcwm6aH"
      },
      "source": [
        "# Get index of max and min volumes\n",
        "tmax = np.argmax(ts)\n",
        "tmin = np.argmin(ts)\n",
        "\n",
        "# Plot the largest and smallest volumes\n",
        "fig, axes = plt.subplots(2,1)\n",
        "axes[0].imshow(vol_ts[tmax, 4], vmax=160)\n",
        "axes[1].imshow(vol_ts[tmin, 4], vmax=160)\n",
        "format_and_render_plots()"
      ],
      "execution_count": null,
      "outputs": []
    },
    {
      "cell_type": "code",
      "metadata": {
        "id": "uhkHQYxyQ3nJ"
      },
      "source": [
        "# Calculate ejection fraction\n",
        "ej_vol = ts.max() - ts.min()\n",
        "ej_frac = ej_vol / ts.max()\n",
        "print('Est. ejection volume (mm^3):', ej_vol)\n",
        "print('Est. ejection fraction:', ej_frac)"
      ],
      "execution_count": null,
      "outputs": []
    },
    {
      "cell_type": "code",
      "metadata": {
        "id": "oylB4Zcna4Zn"
      },
      "source": [
        ""
      ],
      "execution_count": null,
      "outputs": []
    },
    {
      "cell_type": "markdown",
      "metadata": {
        "id": "a3fDUvpddV6O"
      },
      "source": [
        "**Image Comparison**"
      ]
    },
    {
      "cell_type": "code",
      "metadata": {
        "id": "4APmZhTUdYUr"
      },
      "source": [
        "# Translation\n",
        "# Find image center of mass\n",
        "com = ndi.center_of_mass(im)\n",
        "\n",
        "# Calculate amount of shift needed\n",
        "d0 = 128 - com[0]\n",
        "d1 = 128 - com[1]\n",
        "\n",
        "# Translate the brain towards the center\n",
        "xfm = ndi.shift(im, shift=(d0, d1))\n",
        "\n",
        "# Plot the original and adjusted images\n",
        "fig, axes = plt.subplots(nrows=2,ncols=1)\n",
        "axes[0].imshow(im)\n",
        "axes[1].imshow(xfm)\n",
        "format_and_render_plot()"
      ],
      "execution_count": null,
      "outputs": []
    },
    {
      "cell_type": "markdown",
      "metadata": {
        "id": "9PCFPPkHekac"
      },
      "source": [
        "Rotations\n",
        "\n",
        "In cases where an object is angled or flipped, the image can be rotated. Using ndi.rotate(), the image is rotated from its center by the specified degrees from the right horizontal axis."
      ]
    },
    {
      "cell_type": "code",
      "metadata": {
        "id": "PjjRK0izelBx"
      },
      "source": [
        "# Shift the image towards the center\n",
        "xfm = ndi.shift(im, shift=(-20, -20))\n",
        "\n",
        "# Rotate the shifted image\n",
        "xfm = ndi.rotate(xfm, angle=-30, reshape=False)\n",
        "\n",
        "# Plot the original and rotated images\n",
        "fig, axes = plt.subplots(2, 1)\n",
        "axes[0].imshow(im)\n",
        "axes[1].imshow(xfm)\n",
        "format_and_render_plot()"
      ],
      "execution_count": null,
      "outputs": []
    },
    {
      "cell_type": "markdown",
      "metadata": {
        "id": "hsrRztONfSUe"
      },
      "source": [
        "Affine transform\n",
        "\n",
        "An affine transformation matrix provides directions for up to four types of changes: translating, rotating, rescaling and shearing. The elements of the matrix map the coordinates from the input array to the output.\n"
      ]
    },
    {
      "cell_type": "code",
      "metadata": {
        "colab": {
          "base_uri": "https://localhost:8080/"
        },
        "id": "7Rn2OjpXfNuH",
        "outputId": "7563a1f3-3b76-4aca-afd2-b260dc42e675"
      },
      "source": [
        "np.arange(100).reshape([10,10])"
      ],
      "execution_count": null,
      "outputs": [
        {
          "output_type": "execute_result",
          "data": {
            "text/plain": [
              "array([[ 0,  1,  2,  3,  4,  5,  6,  7,  8,  9],\n",
              "       [10, 11, 12, 13, 14, 15, 16, 17, 18, 19],\n",
              "       [20, 21, 22, 23, 24, 25, 26, 27, 28, 29],\n",
              "       [30, 31, 32, 33, 34, 35, 36, 37, 38, 39],\n",
              "       [40, 41, 42, 43, 44, 45, 46, 47, 48, 49],\n",
              "       [50, 51, 52, 53, 54, 55, 56, 57, 58, 59],\n",
              "       [60, 61, 62, 63, 64, 65, 66, 67, 68, 69],\n",
              "       [70, 71, 72, 73, 74, 75, 76, 77, 78, 79],\n",
              "       [80, 81, 82, 83, 84, 85, 86, 87, 88, 89],\n",
              "       [90, 91, 92, 93, 94, 95, 96, 97, 98, 99]])"
            ]
          },
          "metadata": {},
          "execution_count": 4
        }
      ]
    },
    {
      "cell_type": "code",
      "metadata": {
        "id": "dPhEsQSV2gUn"
      },
      "source": [
        ""
      ],
      "execution_count": null,
      "outputs": []
    },
    {
      "cell_type": "markdown",
      "metadata": {
        "id": "odLzq4Vk2viM"
      },
      "source": [
        "Resampling\n",
        "\n",
        "Images can be collected in a variety of shapes and sizes. Resampling is a useful tool when these shapes need to be made consistent. Two common applications are:\n",
        "\n",
        "  * Downsampling: combining pixel data to decrease size\n",
        "  * Upsampling: distributing pixel data to increase size\n",
        "\n",
        "note: Tradeoff in memory & storage\n",
        "Can create a higher resolution through interpolation. Higher order interpolation will increase computation time\n"
      ]
    },
    {
      "cell_type": "code",
      "metadata": {
        "id": "iV9oPSDd2ylK"
      },
      "source": [
        "# Center and level image\n",
        "xfm = ndi.shift(im, shift=[-20,-20])\n",
        "xfm = ndi.rotate(xfm, angle=-35, reshape=False)\n",
        "\n",
        "# Resample image\n",
        "im_dn = ndi.zoom(xfm, zoom=.25)\n",
        "im_up = ndi.zoom(xfm, zoom=4)\n",
        "\n",
        "# Plot the images\n",
        "fig, axes = plt.subplots(2, 1)\n",
        "axes[0].imshow(im_dn)\n",
        "axes[1].imshow(im_up)\n",
        "format_and_render_plot()"
      ],
      "execution_count": null,
      "outputs": []
    },
    {
      "cell_type": "code",
      "metadata": {
        "id": "qnUetYgp4BfZ"
      },
      "source": [
        "# Upsample \"im\" by a factor of 4\n",
        "up0 = ndi.zoom(im, zoom=4, order=0)\n",
        "up5 = ndi.zoom(im, zoom=4, order=5)\n",
        "\n",
        "# Print original and new shape\n",
        "print('Original shape:', im.shape)\n",
        "print('Upsampled shape:', up5.shape)\n",
        "\n",
        "# Plot close-ups of the new images\n",
        "fig, axes = plt.subplots(1, 2)\n",
        "axes[0].imshow(up0[128:256, 128:256])\n",
        "axes[1].imshow(up5[128:256, 128:256])\n",
        "format_and_render_plots()"
      ],
      "execution_count": null,
      "outputs": []
    },
    {
      "cell_type": "markdown",
      "metadata": {
        "id": "5eZP9yTw4Fg8"
      },
      "source": [
        "Comparing Images\n",
        "\n",
        "Can look at differences of images and take mean to condnense into 1 number. Intensity can amplify the difference\n",
        "\n",
        "The mean absolute error (MAE), for example, summarizes intensity differences between two images, with higher values indicating greater divergence.\n",
        "\n"
      ]
    },
    {
      "cell_type": "code",
      "metadata": {
        "id": "T_RXF5ie4CHx"
      },
      "source": [
        "# Calculate image difference\n",
        "err = im1 - im2\n",
        "\n",
        "# Plot the difference\n",
        "plt.imshow(err, cmap='seismic', vmin=-200, vmax=200)\n",
        "format_and_render_plot()"
      ],
      "execution_count": null,
      "outputs": []
    },
    {
      "cell_type": "code",
      "metadata": {
        "id": "nwkP7zWT5Bsz"
      },
      "source": [
        "# Calculate absolute image difference\n",
        "abs_err = np.abs(im1 - im2)\n",
        "\n",
        "# Plot the difference\n",
        "plt.imshow(abs_err, cmap='seismic', vmin=-200, vmax=200)\n",
        "format_and_render_plot()"
      ],
      "execution_count": null,
      "outputs": []
    },
    {
      "cell_type": "code",
      "metadata": {
        "id": "DwdI3efh5JIP"
      },
      "source": [
        "# Calculate mean absolute error\n",
        "mean_abs_err = np.mean(np.abs(im1 - im2))\n",
        "print('MAE:', mean_abs_err)"
      ],
      "execution_count": null,
      "outputs": []
    },
    {
      "cell_type": "markdown",
      "metadata": {
        "id": "pX8b85Bm5VRQ"
      },
      "source": [
        "Intersection of the union\n",
        "\n",
        "Another cost function is the intersection of the union (IOU). The IOU is the number of pixels filled in both images (the intersection) out of the number of pixels filled in either image (the union).\n",
        "\n",
        "For this exercise, determine how best to transform im1 to maximize the IOU cost function with im2. We have defined the following function for you:\n",
        "\n",
        "```\n",
        "def intersection_of_union(im1, im2):\n",
        "    i = np.logical_and(im1, im2)\n",
        "    u = np.logical_or(im1, im2)\n",
        "    return i.sum() / u.sum()\n",
        "\n",
        "```\n",
        "\n",
        "Note: When using ndi.rotate(), remember to pass reshape=False, so that array shapes match."
      ]
    },
    {
      "cell_type": "markdown",
      "metadata": {
        "id": "dY-9-x7H5kSE"
      },
      "source": [
        "Normalizing Measurements\n"
      ]
    },
    {
      "cell_type": "markdown",
      "metadata": {
        "id": "x1Lzmz__71ea"
      },
      "source": [
        "Let's test the hypothesis that Alzheimer's Disease is characterized by reduced brain volume.\n",
        "\n",
        "Sample Segmentations of Alzheimer's and Typical Subject\n",
        "\n",
        "We can perform a two-sample t-test between the brain volumes of elderly adults with and without Alzheimer's Disease. In this case, the two population samples are independent from each other because they are all separate subjects."
      ]
    },
    {
      "cell_type": "code",
      "metadata": {
        "id": "Zvnt0Zfu5PAy"
      },
      "source": [
        "# Import independent two-sample t-test\n",
        "from scipy.stats import ttest_ind\n",
        "\n",
        "# Select data from \"alzheimers\" and \"typical\" groups\n",
        "brain_alz = df.loc[df.alzheimers == True, 'brain_vol']\n",
        "brain_typ = df.loc[df.alzheimers == False, 'brain_vol']\n",
        "\n",
        "# Perform t-test of \"alz\" > \"typ\"\n",
        "results = ttest_ind(brain_alz, brain_typ)\n",
        "print('t = ', results.statistic)\n",
        "print('p = ', results.pvalue)\n",
        "\n",
        "# Show boxplot of brain_vol differences\n",
        "df.boxplot(column='brain_vol', by='alzheimers')\n",
        "plt.show()"
      ],
      "execution_count": null,
      "outputs": []
    },
    {
      "cell_type": "code",
      "metadata": {
        "id": "NJMTaPgl9D-y"
      },
      "source": [
        "# Import independent two-sample t-test\n",
        "from scipy.stats import ttest_ind\n",
        "\n",
        "# Adjust `brain_vol` by `skull_vol`\n",
        "df['adj_brain_vol'] = df.brain_vol / df.skull_vol\n",
        "\n",
        "# Select brain measures by group\n",
        "brain_alz = df.loc[df.alzheimers == True, 'adj_brain_vol']\n",
        "brain_typ = df.loc[df.alzheimers == False, 'adj_brain_vol']\n",
        "\n",
        "# Evaluate null hypothesis\n",
        "results = ttest_ind(brain_alz, brain_typ)\n",
        "\n"
      ],
      "execution_count": null,
      "outputs": []
    }
  ]
}