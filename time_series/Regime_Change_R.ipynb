{
  "nbformat": 4,
  "nbformat_minor": 0,
  "metadata": {
    "colab": {
      "name": "Regime_Change_R.ipynb",
      "provenance": [],
      "authorship_tag": "ABX9TyMl1O4SRO2XSN2KTixLUW4H",
      "include_colab_link": true
    },
    "kernelspec": {
      "name": "ir",
      "display_name": "R"
    },
    "language_info": {
      "name": "R"
    }
  },
  "cells": [
    {
      "cell_type": "markdown",
      "metadata": {
        "id": "view-in-github",
        "colab_type": "text"
      },
      "source": [
        "<a href=\"https://colab.research.google.com/github/iveksl2/ds_skills/blob/master/time_series/Regime_Change_R.ipynb\" target=\"_parent\"><img src=\"https://colab.research.google.com/assets/colab-badge.svg\" alt=\"Open In Colab\"/></a>"
      ]
    },
    {
      "cell_type": "markdown",
      "source": [
        "[Detecting Structural changes in blochain transaction time series - Sergey Mastitsky](https://medium.com/geekculture/detecting-structural-changes-in-blockchain-transaction-time-series-cf62bfea3e2a)"
      ],
      "metadata": {
        "id": "8tJMbVcBqveK"
      }
    },
    {
      "cell_type": "code",
      "source": [
        "require(readr)"
      ],
      "metadata": {
        "colab": {
          "base_uri": "https://localhost:8080/"
        },
        "id": "zWADiKvzq0bz",
        "outputId": "ded0a459-c552-4f0b-bc1b-d130cca29d2b"
      },
      "execution_count": 2,
      "outputs": [
        {
          "output_type": "stream",
          "name": "stderr",
          "text": [
            "Loading required package: readr\n",
            "\n"
          ]
        }
      ]
    },
    {
      "cell_type": "code",
      "source": [
        "tron_tx <- read_csv(file = \"https://chilp.it/44bea1d\")\n"
      ],
      "metadata": {
        "colab": {
          "base_uri": "https://localhost:8080/"
        },
        "id": "Edgjt2O-q6am",
        "outputId": "5608e502-3635-4feb-b870-e229be828cd8"
      },
      "execution_count": 3,
      "outputs": [
        {
          "output_type": "stream",
          "name": "stderr",
          "text": [
            "\u001b[1mRows: \u001b[22m\u001b[34m318\u001b[39m \u001b[1mColumns: \u001b[22m\u001b[34m2\u001b[39m\n",
            "\u001b[36m──\u001b[39m \u001b[1mColumn specification\u001b[22m \u001b[36m────────────────────────────────────────────────────────\u001b[39m\n",
            "\u001b[1mDelimiter:\u001b[22m \",\"\n",
            "\u001b[32mdbl\u001b[39m  (1): tx_count\n",
            "\u001b[34mdttm\u001b[39m (1): timestamp\n",
            "\n",
            "\u001b[36mℹ\u001b[39m Use `spec()` to retrieve the full column specification for this data.\n",
            "\u001b[36mℹ\u001b[39m Specify the column types or set `show_col_types = FALSE` to quiet this message.\n"
          ]
        }
      ]
    },
    {
      "cell_type": "code",
      "source": [
        "head(tron_tx)"
      ],
      "metadata": {
        "colab": {
          "base_uri": "https://localhost:8080/",
          "height": 286
        },
        "id": "4L71oD7Sq7eS",
        "outputId": "791ff274-0467-4540-854f-b2f56b92ae79"
      },
      "execution_count": 4,
      "outputs": [
        {
          "output_type": "display_data",
          "data": {
            "text/html": [
              "<table class=\"dataframe\">\n",
              "<caption>A tibble: 6 × 2</caption>\n",
              "<thead>\n",
              "\t<tr><th scope=col>timestamp</th><th scope=col>tx_count</th></tr>\n",
              "\t<tr><th scope=col>&lt;dttm&gt;</th><th scope=col>&lt;dbl&gt;</th></tr>\n",
              "</thead>\n",
              "<tbody>\n",
              "\t<tr><td>2021-07-02 02:55:00</td><td>233</td></tr>\n",
              "\t<tr><td>2021-07-02 02:55:03</td><td>234</td></tr>\n",
              "\t<tr><td>2021-07-02 02:55:06</td><td>302</td></tr>\n",
              "\t<tr><td>2021-07-02 02:55:09</td><td>313</td></tr>\n",
              "\t<tr><td>2021-07-02 02:55:12</td><td>351</td></tr>\n",
              "\t<tr><td>2021-07-02 02:55:15</td><td>291</td></tr>\n",
              "</tbody>\n",
              "</table>\n"
            ],
            "text/markdown": "\nA tibble: 6 × 2\n\n| timestamp &lt;dttm&gt; | tx_count &lt;dbl&gt; |\n|---|---|\n| 2021-07-02 02:55:00 | 233 |\n| 2021-07-02 02:55:03 | 234 |\n| 2021-07-02 02:55:06 | 302 |\n| 2021-07-02 02:55:09 | 313 |\n| 2021-07-02 02:55:12 | 351 |\n| 2021-07-02 02:55:15 | 291 |\n\n",
            "text/latex": "A tibble: 6 × 2\n\\begin{tabular}{ll}\n timestamp & tx\\_count\\\\\n <dttm> & <dbl>\\\\\n\\hline\n\t 2021-07-02 02:55:00 & 233\\\\\n\t 2021-07-02 02:55:03 & 234\\\\\n\t 2021-07-02 02:55:06 & 302\\\\\n\t 2021-07-02 02:55:09 & 313\\\\\n\t 2021-07-02 02:55:12 & 351\\\\\n\t 2021-07-02 02:55:15 & 291\\\\\n\\end{tabular}\n",
            "text/plain": [
              "  timestamp           tx_count\n",
              "1 2021-07-02 02:55:00 233     \n",
              "2 2021-07-02 02:55:03 234     \n",
              "3 2021-07-02 02:55:06 302     \n",
              "4 2021-07-02 02:55:09 313     \n",
              "5 2021-07-02 02:55:12 351     \n",
              "6 2021-07-02 02:55:15 291     "
            ]
          },
          "metadata": {}
        }
      ]
    },
    {
      "cell_type": "code",
      "source": [
        "plot(tron_tx)"
      ],
      "metadata": {
        "colab": {
          "base_uri": "https://localhost:8080/",
          "height": 437
        },
        "id": "DoG5a7hssYwX",
        "outputId": "4e585c0d-6b7c-4808-f637-e90653d4a701"
      },
      "execution_count": 6,
      "outputs": [
        {
          "output_type": "display_data",
          "data": {
            "text/plain": [
              "plot without title"
            ],
            "image/png": "[encoded data removed]"
          },
          "metadata": {
            "image/png": {
              "width": 420,
              "height": 420
            }
          }
        }
      ]
    },
    {
      "cell_type": "code",
      "source": [
        "#install.packages('ecp')\n",
        "require(ecp)"
      ],
      "metadata": {
        "colab": {
          "base_uri": "https://localhost:8080/"
        },
        "id": "f89MRZsbrBTK",
        "outputId": "9c6fa864-d497-4b37-af36-376bdb4593e2"
      },
      "execution_count": 14,
      "outputs": [
        {
          "output_type": "stream",
          "name": "stderr",
          "text": [
            "Loading required package: ecp\n",
            "\n",
            "Loading required package: Rcpp\n",
            "\n"
          ]
        }
      ]
    },
    {
      "cell_type": "code",
      "source": [
        "tron_cp <- e.divisive(as.matrix(tron_tx$tx_count))"
      ],
      "metadata": {
        "id": "Nb2Kt703tEQx"
      },
      "execution_count": 15,
      "outputs": []
    },
    {
      "cell_type": "code",
      "source": [
        "tron_cp$estimates"
      ],
      "metadata": {
        "colab": {
          "base_uri": "https://localhost:8080/",
          "height": 34
        },
        "id": "Hck4g5CxtI2K",
        "outputId": "4ec3fe20-c24c-4be3-d6b8-e06c84a2c435"
      },
      "execution_count": 16,
      "outputs": [
        {
          "output_type": "display_data",
          "data": {
            "text/html": [
              "<style>\n",
              ".list-inline {list-style: none; margin:0; padding: 0}\n",
              ".list-inline>li {display: inline-block}\n",
              ".list-inline>li:not(:last-child)::after {content: \"\\00b7\"; padding: 0 .5ex}\n",
              "</style>\n",
              "<ol class=list-inline><li>1</li><li>103</li><li>166</li><li>212</li><li>319</li></ol>\n"
            ],
            "text/markdown": "1. 1\n2. 103\n3. 166\n4. 212\n5. 319\n\n\n",
            "text/latex": "\\begin{enumerate*}\n\\item 1\n\\item 103\n\\item 166\n\\item 212\n\\item 319\n\\end{enumerate*}\n",
            "text/plain": [
              "[1]   1 103 166 212 319"
            ]
          },
          "metadata": {}
        }
      ]
    },
    {
      "cell_type": "code",
      "source": [
        "tron_cp$p.values"
      ],
      "metadata": {
        "colab": {
          "base_uri": "https://localhost:8080/",
          "height": 34
        },
        "id": "OBJEnrwGtLo7",
        "outputId": "e64925a3-58b8-470d-ad43-20e560e953db"
      },
      "execution_count": 17,
      "outputs": [
        {
          "output_type": "display_data",
          "data": {
            "text/html": [
              "<style>\n",
              ".list-inline {list-style: none; margin:0; padding: 0}\n",
              ".list-inline>li {display: inline-block}\n",
              ".list-inline>li:not(:last-child)::after {content: \"\\00b7\"; padding: 0 .5ex}\n",
              "</style>\n",
              "<ol class=list-inline><li>0.005</li><li>0.005</li><li>0.005</li><li>0.77</li></ol>\n"
            ],
            "text/markdown": "1. 0.005\n2. 0.005\n3. 0.005\n4. 0.77\n\n\n",
            "text/latex": "\\begin{enumerate*}\n\\item 0.005\n\\item 0.005\n\\item 0.005\n\\item 0.77\n\\end{enumerate*}\n",
            "text/plain": [
              "[1] 0.005 0.005 0.005 0.770"
            ]
          },
          "metadata": {}
        }
      ]
    },
    {
      "cell_type": "code",
      "source": [
        "get_cp <- function(x, true_cp = tron_tx[103, ]$timestamp) {\n",
        "  \n",
        "  cp <- e.divisive(as.matrix(x$tx_count))\n",
        "  if (cp$k.hat == 1) return(NA)\n",
        "  cp_idx <- cp$estimates[-c(1, length(cp$estimates))]\n",
        "  if (length(cp_idx > 1)) cp_idx <- cp_idx[1]\n",
        "  cp_timestamp <- x[cp_idx, ]$timestamp\n",
        "  as.numeric(difftime(true_cp, cp_timestamp, units = \"secs\"))\n",
        "}"
      ],
      "metadata": {
        "id": "Vk7vM1PFtscW"
      },
      "execution_count": 18,
      "outputs": []
    },
    {
      "cell_type": "code",
      "source": [
        "#install.packages('tsibble')\n",
        "#install.packages('slider')\n",
        "require(slider)\n",
        "require(purrr)\n",
        "require(tsibble)\n",
        "require(magrittr)"
      ],
      "metadata": {
        "colab": {
          "base_uri": "https://localhost:8080/"
        },
        "id": "Sq7OVAJDtz3u",
        "outputId": "2cc53fc5-87db-4c21-87da-ef0ac591cf6e"
      },
      "execution_count": 22,
      "outputs": [
        {
          "output_type": "stream",
          "name": "stderr",
          "text": [
            "Installing package into ‘/usr/local/lib/R/site-library’\n",
            "(as ‘lib’ is unspecified)\n",
            "\n",
            "also installing the dependency ‘warp’\n",
            "\n",
            "\n",
            "Loading required package: slider\n",
            "\n"
          ]
        }
      ]
    },
    {
      "cell_type": "code",
      "source": [
        "# Convert data to the `tsibble` format for easier processing:\n",
        "tron_tx <- as_tsibble(tron_tx, index = timestamp)\n",
        "# Select the simulation period:\n",
        "tx_subset <- tron_tx %>% \n",
        "  filter_index(. ~ \"2021-07-02 03:03:21\")\n",
        "# Create sliding windows with 100 observations each:\n",
        "windows <- tx_subset %>%\n",
        "  slide(., .f = ~.x, .after = 99, .complete = TRUE) %>%\n",
        "  compact()\n",
        "# We have a total of 66 windows:\n",
        "length(windows)\n",
        "#> [1] 66\n",
        "# Apply the E-Divisive algorithm to each window:\n",
        "sim_result <- windows %>%\n",
        "  map_dbl(.f = ~get_cp(.))"
      ],
      "metadata": {
        "colab": {
          "base_uri": "https://localhost:8080/",
          "height": 34
        },
        "id": "Q7bwlaOIt0UI",
        "outputId": "2c1daa81-69e9-4560-f05b-51cae4ceae09"
      },
      "execution_count": 23,
      "outputs": [
        {
          "output_type": "display_data",
          "data": {
            "text/html": [
              "66"
            ],
            "text/markdown": "66",
            "text/latex": "66",
            "text/plain": [
              "[1] 66"
            ]
          },
          "metadata": {}
        }
      ]
    },
    {
      "cell_type": "code",
      "source": [
        "first_cp_window <- which(!is.na(sim_result))[1]\n",
        "windows[[first_cp_window]]$timestamp %>% max()"
      ],
      "metadata": {
        "colab": {
          "base_uri": "https://localhost:8080/",
          "height": 35
        },
        "id": "MuAVq81VuF9F",
        "outputId": "b572a33b-6449-4968-ddd8-5b936a563a19"
      },
      "execution_count": 24,
      "outputs": [
        {
          "output_type": "display_data",
          "data": {
            "text/plain": [
              "[1] \"2021-07-02 03:00:30 UTC\""
            ]
          },
          "metadata": {}
        }
      ]
    },
    {
      "cell_type": "code",
      "source": [
        "sim_result[first_cp_window]\n"
      ],
      "metadata": {
        "colab": {
          "base_uri": "https://localhost:8080/",
          "height": 34
        },
        "id": "IdKrsrpNuavw",
        "outputId": "c662e68a-05b2-403f-f2cf-9bb8b934630a"
      },
      "execution_count": 25,
      "outputs": [
        {
          "output_type": "display_data",
          "data": {
            "text/html": [
              "63"
            ],
            "text/markdown": "63",
            "text/latex": "63",
            "text/plain": [
              "[1] 63"
            ]
          },
          "metadata": {}
        }
      ]
    },
    {
      "cell_type": "code",
      "source": [
        ""
      ],
      "metadata": {
        "id": "ruMprpjCucX5"
      },
      "execution_count": null,
      "outputs": []
    }
  ]
}